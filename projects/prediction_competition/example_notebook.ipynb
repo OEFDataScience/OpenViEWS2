{
 "cells": [
  {
   "cell_type": "markdown",
   "metadata": {},
   "source": [
    "# ViEWS prediction competition example notebook\n",
    "\n",
    "Hello and welcome to the ViEWS prediction competition material.\n",
    "The aim of this notebook is to show you a simple interface to how ViEWS approaches making predictions with what we call step shifting.\n",
    "\n",
    "The idea is to use features at time $t$ to predict events at $t+s$.\n",
    "For a detailed explanation of how this works in theory, complete with rigourous notation, see the ViEWS publications.\n",
    "For a detailed explanation of how this works in practice, look at the code in views/apps/model/api.py of this repository. \n",
    "\n",
    "Because keeping track of shifting time back and forth can be a bit tricky we have written a simplified interface so that you can focus on modelling and features and (hopefully) be confident that the time shifting is taken care of.\n",
    "We encourage you to take a look at the underlying code in this repository to understand what is going on and find any nasty mistakes we might have made. "
   ]
  },
  {
   "cell_type": "code",
   "execution_count": null,
   "metadata": {},
   "outputs": [],
   "source": [
    "import sys\n",
    "import logging\n",
    "\n",
    "import pandas as pd\n",
    "\n",
    "# Import any other sklearn estimator you would like. \n",
    "# See https://scikit-learn.org/stable/user_guide.html#user-guide\n",
    "from sklearn.ensemble import RandomForestRegressor\n",
    "\n",
    "import views\n",
    "\n",
    "from views.config import LOGFMT\n",
    "from views.utils.io import csv_to_df\n",
    "from views.utils.data import assign_into_df\n",
    "from views.apps.transforms import lib as translib\n",
    "from views.apps.model import api\n"
   ]
  },
  {
   "cell_type": "code",
   "execution_count": null,
   "metadata": {},
   "outputs": [],
   "source": [
    "logging.basicConfig(format=LOGFMT, stream=sys.stdout, level=logging.INFO)"
   ]
  },
  {
   "cell_type": "code",
   "execution_count": null,
   "metadata": {},
   "outputs": [],
   "source": [
    "paths = views.utils.extras.fetch_prediction_competition_data()\n",
    "print(paths)"
   ]
  },
  {
   "cell_type": "code",
   "execution_count": null,
   "metadata": {},
   "outputs": [],
   "source": [
    "# Select a dataset\n",
    "df = csv_to_df(paths[\"cm.csv\"]).set_index([\"month_id\", \"country_id\"]).sort_index()\n",
    "#df = csv_to_df(paths[\"pgm.csv\"]).set_index([\"month_id\", \"pg_id\"]).sort_index()"
   ]
  },
  {
   "cell_type": "code",
   "execution_count": null,
   "metadata": {},
   "outputs": [],
   "source": [
    "# See which columns we have to work with\n",
    "for col in df:\n",
    "    print(col)"
   ]
  },
  {
   "cell_type": "code",
   "execution_count": null,
   "metadata": {},
   "outputs": [],
   "source": [
    "# Define our 2017.01-2019.12 development period\n",
    "# Keeping periods in a list lets us easily expand this as the \n",
    "# updated data becomes available\n",
    "period_develop = api.Period(\n",
    "    name=\"develop\", \n",
    "    train_start=121,   # 1990-01\n",
    "    train_end=444,     # 2016.12\n",
    "    predict_start=445, # 2017.01\n",
    "    predict_end=480,   # 2019.12\n",
    ")\n",
    "periods = [period_develop]"
   ]
  },
  {
   "cell_type": "code",
   "execution_count": null,
   "metadata": {},
   "outputs": [],
   "source": [
    "# The steps to train, predict and evaluate for.\n",
    "steps = [1,2,3,5,6]"
   ]
  },
  {
   "cell_type": "code",
   "execution_count": null,
   "metadata": {},
   "outputs": [],
   "source": [
    "# Transformations. See views.apps.transforms.lib for more options\n",
    "# Feel free to add any you like\n",
    "df[\"ma_12_ged_best_sb\"] = translib.moving_average(df[\"ged_best_sb\"], time=12)\n",
    "df[\"ma_12_ged_best_ns\"] = translib.moving_average(df[\"ged_best_ns\"], time=12)\n",
    "df[\"ma_12_ged_best_os\"] = translib.moving_average(df[\"ged_best_os\"], time=12)\n",
    "df[\"time_since_ged_dummy_sb\"] = translib.time_since_previous_event(df[\"ged_dummy_sb\"])\n",
    "df[\"time_since_ged_dummy_ns\"] = translib.time_since_previous_event(df[\"ged_dummy_ns\"])\n",
    "df[\"time_since_ged_dummy_os\"] = translib.time_since_previous_event(df[\"ged_dummy_os\"])"
   ]
  },
  {
   "cell_type": "code",
   "execution_count": null,
   "metadata": {},
   "outputs": [],
   "source": [
    "# Specify your wanted feature sets\n",
    "cols_features_raw = [\n",
    "    \"ged_best_sb\",\n",
    "    \"ged_best_ns\",\n",
    "    \"ged_best_os\",\n",
    "]\n",
    "cols_features_transforms = [\n",
    "    \"ma_12_ged_best_sb\",\n",
    "    \"ma_12_ged_best_ns\",\n",
    "    \"ma_12_ged_best_os\",\n",
    "    \"time_since_ged_dummy_sb\",\n",
    "    \"time_since_ged_dummy_ns\",\n",
    "    \"time_since_ged_dummy_os\",\n",
    "]"
   ]
  },
  {
   "cell_type": "code",
   "execution_count": null,
   "metadata": {},
   "outputs": [],
   "source": [
    "# Specify an optional downsampling level\n",
    "downsample_half = api.Downsampling(share_positive=0.5, share_negative=0.5, threshold=0)"
   ]
  },
  {
   "cell_type": "code",
   "execution_count": null,
   "metadata": {},
   "outputs": [],
   "source": [
    "# Define the models\n",
    "\n",
    "model_raw = api.Model(\n",
    "    name=\"raw\",                      # A descripte name\n",
    "    col_outcome=\"ln_ged_best_sb\",    # The outcome column, log of state-based fatalities\n",
    "    cols_features=cols_features_raw, # The list of features\n",
    "    steps=steps,                     # The list of steps\n",
    "    outcome_type=\"real\",             # The outcome type, can be \"real\" or \"prob\"\n",
    "    periods=periods,                 # The list of periods to work on\n",
    "    estimator=RandomForestRegressor( # Defining the estimator to use\n",
    "        criterion=\"mse\",\n",
    "    ),\n",
    "    delta_outcome = True             # Specifies that the model should take the delta \n",
    "                                     # of the outcome column before training and when evaluation\n",
    ")\n",
    "\n",
    "model_transforms = api.Model(\n",
    "    name=\"raw_and_transforms\",\n",
    "    col_outcome=\"ln_ged_best_sb\",\n",
    "    cols_features=cols_features_raw + cols_features_transforms,\n",
    "    steps=steps,\n",
    "    outcome_type=\"real\",\n",
    "    periods=periods,\n",
    "    estimator=RandomForestRegressor(\n",
    "        criterion=\"mse\",\n",
    "    ),\n",
    "    delta_outcome = True,\n",
    "    downsampling=downsample_half\n",
    ")\n",
    "\n",
    "models = [model_raw, model_transforms]"
   ]
  },
  {
   "cell_type": "code",
   "execution_count": null,
   "metadata": {},
   "outputs": [],
   "source": [
    "# Train all models\n",
    "for model in models:\n",
    "    model.fit_estimators(df)"
   ]
  },
  {
   "cell_type": "code",
   "execution_count": null,
   "metadata": {},
   "outputs": [],
   "source": [
    "# Store predictions for all models in our dataframe\n",
    "for model in models:\n",
    "    df_predictions = model.predict_steps(df)\n",
    "    df = assign_into_df(df, df_predictions)"
   ]
  },
  {
   "cell_type": "code",
   "execution_count": null,
   "metadata": {},
   "outputs": [],
   "source": [
    "# Evaluate all models. Scores are stored in the model object\n",
    "for model in models:\n",
    "    model.evaluate(df)"
   ]
  },
  {
   "cell_type": "code",
   "execution_count": null,
   "metadata": {},
   "outputs": [],
   "source": [
    "# Show our scores, it looks like transforms did some good. \n",
    "for model in models:\n",
    "    print(model.name)\n",
    "    print(pd.DataFrame(model.scores))"
   ]
  },
  {
   "cell_type": "code",
   "execution_count": null,
   "metadata": {},
   "outputs": [],
   "source": []
  }
 ],
 "metadata": {
  "kernelspec": {
   "display_name": "Python 3",
   "language": "python",
   "name": "python3"
  },
  "language_info": {
   "codemirror_mode": {
    "name": "ipython",
    "version": 3
   },
   "file_extension": ".py",
   "mimetype": "text/x-python",
   "name": "python",
   "nbconvert_exporter": "python",
   "pygments_lexer": "ipython3",
   "version": "3.7.6"
  }
 },
 "nbformat": 4,
 "nbformat_minor": 4
}
